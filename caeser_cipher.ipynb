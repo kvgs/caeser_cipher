{
  "nbformat": 4,
  "nbformat_minor": 0,
  "metadata": {
    "colab": {
      "provenance": [],
      "authorship_tag": "ABX9TyN2wqJNp6wfh3CN/8Y1c3Gk",
      "include_colab_link": true
    },
    "kernelspec": {
      "name": "python3",
      "display_name": "Python 3"
    },
    "language_info": {
      "name": "python"
    }
  },
  "cells": [
    {
      "cell_type": "markdown",
      "metadata": {
        "id": "view-in-github",
        "colab_type": "text"
      },
      "source": [
        "<a href=\"https://colab.research.google.com/github/kvgs/caeser_cipher/blob/main/caeser_cipher.ipynb\" target=\"_parent\"><img src=\"https://colab.research.google.com/assets/colab-badge.svg\" alt=\"Open In Colab\"/></a>"
      ]
    },
    {
      "cell_type": "code",
      "execution_count": null,
      "metadata": {
        "id": "FcRuW2ng_eYk"
      },
      "outputs": [],
      "source": [
        "def caesar_cipher(message, offset):\n",
        "    alphabet = \"abcdefghijklmnopqrstuvwxyz\"\n",
        "    translated_message = \"\"\n",
        "\n",
        "    for character in message:\n",
        "        if character in alphabet:\n",
        "            character_value = alphabet.find(character)\n",
        "            translated_message += alphabet[(character_value + offset) % 26]\n",
        "        else:\n",
        "            translated_message += character\n",
        "    return translated_message\n",
        "\n",
        "message_input = input(\"Digite a mensagem que você deseja cifrar: \")\n",
        "offset = int(input(\"Digite o deslocamento (offset) que você deseja usar: \"))\n",
        "\n",
        "ciphered_message = caesar_cipher(message_input, offset)\n",
        "print(\"\\nMensagem cifrada:\", ciphered_message)\n"
      ]
    }
  ]
}